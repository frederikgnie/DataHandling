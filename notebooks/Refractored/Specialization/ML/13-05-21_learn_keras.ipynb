{
 "cells": [
  {
   "cell_type": "code",
   "execution_count": 1,
   "id": "18d7945a",
   "metadata": {},
   "outputs": [],
   "source": [
    "import os\n",
    "import sys"
   ]
  },
  {
   "cell_type": "code",
   "execution_count": 2,
   "id": "77b1df96",
   "metadata": {},
   "outputs": [],
   "source": [
    "os.chdir('/home/au569913/DataHandling/')\n",
    "sys.path.append('/home/au569913/DataHandling/')\n",
    "os.environ['HDF5_USE_FILE_LOCKING']=\"FALSE\""
   ]
  },
  {
   "cell_type": "code",
   "execution_count": 3,
   "id": "200602bb",
   "metadata": {},
   "outputs": [],
   "source": [
    "from dask_jobqueue import SLURMCluster\n",
    "from dask.distributed import Client, as_completed,wait,fire_and_forget\n",
    "import glob\n",
    "import xarray as xr\n",
    "import seaborn as sns\n",
    "import matplotlib.pyplot as plt\n",
    "import pandas as pd\n",
    "import numpy as np\n",
    "import importlib\n",
    "import dask\n",
    "import zarr\n",
    "import time"
   ]
  },
  {
   "cell_type": "code",
   "execution_count": 4,
   "id": "8d440133",
   "metadata": {},
   "outputs": [],
   "source": [
    "from sklearn.datasets import load_boston\n",
    "from keras.models import Sequential\n",
    "from keras.layers import Dense, Conv1D, Flatten\n",
    "import tensorflow as tf\n",
    "from sklearn.model_selection import train_test_split\n",
    "from sklearn.metrics import mean_squared_error\n",
    "import matplotlib.pyplot as pl\n",
    "import keras"
   ]
  },
  {
   "cell_type": "code",
   "execution_count": 5,
   "id": "351afafe",
   "metadata": {},
   "outputs": [
    {
     "data": {
      "text/plain": [
       "<dask.config.set at 0x7f1bfa4fddf0>"
      ]
     },
     "execution_count": 5,
     "metadata": {},
     "output_type": "execute_result"
    }
   ],
   "source": [
    "sns.set_theme()\n",
    "dask.config.set({\"distributed.comm.timeouts.tcp\": \"50s\"})\n",
    "dask.config.set({'distributed.comm.retry.count':3})\n",
    "dask.config.set({'distributed.comm.timeouts.connect':'25s'})\n",
    "dask.config.set({\"distributed.worker.use-file-locking\":False})"
   ]
  },
  {
   "cell_type": "code",
   "execution_count": 6,
   "id": "2cc7c049",
   "metadata": {},
   "outputs": [],
   "source": [
    "#xr.open_zarr(\"/home/au569913/NOBACKUP/data.zarr\")"
   ]
  },
  {
   "cell_type": "markdown",
   "id": "3224b521",
   "metadata": {},
   "source": [
    "https://www.datatechnotes.com/2019/12/how-to-fit-regression-data-with-cnn.html"
   ]
  },
  {
   "cell_type": "markdown",
   "id": "7833a078",
   "metadata": {},
   "source": [
    "Opening dataset"
   ]
  },
  {
   "cell_type": "code",
   "execution_count": 7,
   "id": "744de54a",
   "metadata": {},
   "outputs": [],
   "source": [
    "boston = load_boston()\n",
    "x, y = boston.data, boston.target\n",
    "x = x.reshape(x.shape[0], x.shape[1], 1)"
   ]
  },
  {
   "cell_type": "markdown",
   "id": "340fa10c",
   "metadata": {},
   "source": [
    "Splitting data with skelearm stuff"
   ]
  },
  {
   "cell_type": "code",
   "execution_count": 8,
   "id": "4284c773",
   "metadata": {},
   "outputs": [],
   "source": [
    "xtrain, xtest, ytrain, ytest=train_test_split(x, y, test_size=0.15) "
   ]
  },
  {
   "cell_type": "markdown",
   "id": "f8aab970",
   "metadata": {},
   "source": [
    "Using the functional api"
   ]
  },
  {
   "cell_type": "code",
   "execution_count": 9,
   "id": "7bf3256d",
   "metadata": {},
   "outputs": [],
   "source": [
    "inputs = keras.Input(shape=(13,1))"
   ]
  },
  {
   "cell_type": "code",
   "execution_count": 10,
   "id": "a714c689",
   "metadata": {},
   "outputs": [],
   "source": [
    "conv=Conv1D(32,2,activation=\"relu\")\n"
   ]
  },
  {
   "cell_type": "markdown",
   "id": "a9308c8b",
   "metadata": {},
   "source": [
    "Bruger her at conv tager input  fra inputs"
   ]
  },
  {
   "cell_type": "code",
   "execution_count": null,
   "id": "f19b18b9",
   "metadata": {},
   "outputs": [],
   "source": [
    "x=conv(inputs)"
   ]
  },
  {
   "cell_type": "code",
   "execution_count": null,
   "id": "5b671dea",
   "metadata": {},
   "outputs": [],
   "source": [
    "x=Flatten()(x)"
   ]
  },
  {
   "cell_type": "code",
   "execution_count": null,
   "id": "50a66d3d",
   "metadata": {},
   "outputs": [],
   "source": [
    "x=Dense(64,activation=\"relu\")(x)"
   ]
  },
  {
   "cell_type": "code",
   "execution_count": null,
   "id": "d51441b1",
   "metadata": {},
   "outputs": [],
   "source": [
    "output=Dense(1)(x)"
   ]
  },
  {
   "cell_type": "code",
   "execution_count": null,
   "id": "5ce49f87",
   "metadata": {},
   "outputs": [],
   "source": [
    "model = keras.Model(inputs=inputs, outputs=output, name=\"test\")"
   ]
  },
  {
   "cell_type": "code",
   "execution_count": null,
   "id": "a30a0953",
   "metadata": {},
   "outputs": [],
   "source": [
    "model.compile(loss='mse',optimizer='adam')"
   ]
  },
  {
   "cell_type": "code",
   "execution_count": null,
   "id": "c0d1dc0d",
   "metadata": {},
   "outputs": [],
   "source": [
    "model.summary()"
   ]
  },
  {
   "cell_type": "code",
   "execution_count": null,
   "id": "a071ab71",
   "metadata": {},
   "outputs": [],
   "source": [
    "tf.config.list_physical_devices('GPU') "
   ]
  }
 ],
 "metadata": {
  "kernelspec": {
   "display_name": "Python 3",
   "language": "python",
   "name": "python3"
  },
  "language_info": {
   "codemirror_mode": {
    "name": "ipython",
    "version": 3
   },
   "file_extension": ".py",
   "mimetype": "text/x-python",
   "name": "python",
   "nbconvert_exporter": "python",
   "pygments_lexer": "ipython3",
   "version": "3.8.8"
  }
 },
 "nbformat": 4,
 "nbformat_minor": 5
}
