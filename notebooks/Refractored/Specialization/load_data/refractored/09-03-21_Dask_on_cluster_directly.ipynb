{
 "cells": [
  {
   "cell_type": "markdown",
   "id": "macro-hindu",
   "metadata": {},
   "source": [
    "Så prøver vi en gang til at få det her shizzle til at virke. Først alle import"
   ]
  },
  {
   "cell_type": "code",
   "execution_count": 1,
   "id": "massive-cannon",
   "metadata": {},
   "outputs": [],
   "source": [
    "import os\n",
    "import sys"
   ]
  },
  {
   "cell_type": "code",
   "execution_count": 2,
   "id": "bound-progress",
   "metadata": {},
   "outputs": [],
   "source": [
    "os.chdir('/home/au569913/DataHandling/')"
   ]
  },
  {
   "cell_type": "markdown",
   "id": "lesser-waste",
   "metadata": {},
   "source": [
    "Sætter Datahandling in i min syspath"
   ]
  },
  {
   "cell_type": "code",
   "execution_count": 3,
   "id": "provincial-fountain",
   "metadata": {},
   "outputs": [],
   "source": [
    "sys.path.append('/home/au569913/DataHandling/')"
   ]
  },
  {
   "cell_type": "code",
   "execution_count": 4,
   "id": "proof-animation",
   "metadata": {},
   "outputs": [],
   "source": [
    "from dask_jobqueue import SLURMCluster\n",
    "from dask.distributed import Client, as_completed\n",
    "import glob\n",
    "from src.data.tonetCDF import to_netcdf\n",
    "import xarray as xr"
   ]
  },
  {
   "cell_type": "markdown",
   "id": "wrapped-solomon",
   "metadata": {
    "pycharm": {
     "name": "#%% md\n"
    }
   },
   "source": [
    "Deleting the files smaller than 500 mb, as they are defect"
   ]
  },
  {
   "cell_type": "code",
   "execution_count": 5,
   "id": "inner-arlington",
   "metadata": {},
   "outputs": [],
   "source": [
    "raw_path=\"/home/au569913/DataHandling/data/raw/\"\n",
    "files_raw=glob.glob(raw_path+'*.u')\n",
    "\n",
    "interim_path=\"/home/au569913/NOBACKUP/interim/\"\n",
    "files_interim=glob.glob(interim_path+'*.nc')\n",
    "a=[]\n",
    "for file in files_interim:\n",
    "    size=os.path.getsize(file)\n",
    "    if size < 500000000:\n",
    "        os.remove(file)\n",
    "        \n",
    "\n"
   ]
  },
  {
   "cell_type": "markdown",
   "id": "incorporate-privacy",
   "metadata": {
    "pycharm": {
     "name": "#%% md\n"
    }
   },
   "source": [
    "Now finding the missing files\n"
   ]
  },
  {
   "cell_type": "code",
   "execution_count": 6,
   "id": "simplified-syndicate",
   "metadata": {},
   "outputs": [],
   "source": [
    "file_only_interim=[]\n",
    "file_only_raw=[]\n",
    "for file in files_interim:\n",
    "    a=os.path.basename(file)\n",
    "    a=a[:-3]\n",
    "    file_only_interim.append(a)\n",
    "for file in files_raw:\n",
    "    b=os.path.basename(file)\n",
    "    b=b[:-2]\n",
    "    file_only_raw.append(b)\n",
    "\n",
    "\n",
    "\n",
    "\n",
    "diff=list(set(file_only_interim)^set(file_only_raw))"
   ]
  },
  {
   "cell_type": "code",
   "execution_count": 7,
   "id": "closing-deviation",
   "metadata": {},
   "outputs": [],
   "source": [
    "sym_path=[]\n",
    "for name in diff:\n",
    "    sym_path.append(\"/home/au569913/DataHandling/data/raw/\"+name+'.u')\n",
    "\n",
    "file_path=[]\n",
    "for path in sym_path:\n",
    "    file_path.append(os.readlink(path))\n",
    "\n",
    "\n",
    "\n"
   ]
  },
  {
   "cell_type": "code",
   "execution_count": 8,
   "id": "heated-bunny",
   "metadata": {
    "pycharm": {
     "is_executing": true,
     "name": "#%%\n"
    }
   },
   "outputs": [],
   "source": [
    "\n",
    "for file in file_path:\n",
    "    ds=to_netcdf(file)\n",
    "    ds.to_netcdf(interim_path + file[-12:-1]+ 'nc', engine='netcdf4')\n",
    "    del ds\n",
    "\n",
    "\n"
   ]
  },
  {
   "cell_type": "code",
   "execution_count": null,
   "id": "mighty-compilation",
   "metadata": {},
   "outputs": [],
   "source": []
  }
 ],
 "metadata": {
  "kernelspec": {
   "display_name": "Python 3",
   "language": "python",
   "name": "python3"
  },
  "language_info": {
   "codemirror_mode": {
    "name": "ipython",
    "version": 3
   },
   "file_extension": ".py",
   "mimetype": "text/x-python",
   "name": "python",
   "nbconvert_exporter": "python",
   "pygments_lexer": "ipython3",
   "version": "3.8.8"
  }
 },
 "nbformat": 4,
 "nbformat_minor": 5
}
