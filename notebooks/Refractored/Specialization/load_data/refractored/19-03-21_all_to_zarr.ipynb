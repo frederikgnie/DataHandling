{
 "cells": [
  {
   "cell_type": "code",
   "execution_count": 1,
   "id": "concerned-carol",
   "metadata": {},
   "outputs": [],
   "source": [
    "import os\n",
    "import sys"
   ]
  },
  {
   "cell_type": "code",
   "execution_count": 2,
   "id": "delayed-substance",
   "metadata": {},
   "outputs": [],
   "source": [
    "os.chdir('/home/au569913/DataHandling/')\n",
    "sys.path.append('/home/au569913/DataHandling/')\n",
    "os.environ['HDF5_USE_FILE_LOCKING']=\"FALSE\""
   ]
  },
  {
   "cell_type": "code",
   "execution_count": 3,
   "id": "confident-retailer",
   "metadata": {},
   "outputs": [],
   "source": [
    "from dask_jobqueue import SLURMCluster\n",
    "from dask.distributed import Client, as_completed,wait,fire_and_forget\n",
    "import glob\n",
    "from src.data.tonetCDF import to_netcdf\n",
    "import xarray as xr\n",
    "import seaborn as sns\n",
    "import matplotlib.pyplot as plt\n",
    "import pandas as pd\n",
    "from src.interim import read_valdata\n",
    "import numpy as np\n",
    "import importlib\n",
    "import dask\n",
    "import zarr\n",
    "import time"
   ]
  },
  {
   "cell_type": "code",
   "execution_count": 4,
   "id": "sunrise-rehabilitation",
   "metadata": {},
   "outputs": [
    {
     "data": {
      "text/plain": [
       "<dask.config.set at 0x7f70684c7580>"
      ]
     },
     "execution_count": 4,
     "metadata": {},
     "output_type": "execute_result"
    }
   ],
   "source": [
    "sns.set_theme()\n",
    "dask.config.set({\"distributed.comm.timeouts.tcp\": \"50s\"})\n",
    "dask.config.set({'distributed.comm.retry.count':3})\n",
    "dask.config.set({'distributed.comm.timeouts.connect':'25s'})\n",
    "dask.config.set({\"distributed.worker.use-file-locking\":False})"
   ]
  },
  {
   "cell_type": "code",
   "execution_count": 5,
   "id": "inclusive-constant",
   "metadata": {},
   "outputs": [],
   "source": [
    "cluster=SLURMCluster(cores=6,\n",
    "                     memory=\"22GiB\",\n",
    "                     queue='q64',\n",
    "                     walltime='0-01:00:00',\n",
    "                     local_directory='/scratch/$SLURM_JOB_ID',\n",
    "                     interface='ib0',\n",
    "                     scheduler_options={'interface':'ib0'},\n",
    "                     extra=['--resources mem=15',\"--lifetime\", \"55m\", \"--lifetime-stagger\", \"2m\"]\n",
    "                    )\n",
    "                    "
   ]
  },
  {
   "cell_type": "code",
   "execution_count": 6,
   "id": "sexual-guest",
   "metadata": {},
   "outputs": [],
   "source": [
    "client=Client(cluster)"
   ]
  },
  {
   "cell_type": "code",
   "execution_count": 7,
   "id": "christian-immune",
   "metadata": {},
   "outputs": [
    {
     "data": {
      "text/plain": [
       "<distributed.deploy.adaptive.Adaptive at 0x7f7039747310>"
      ]
     },
     "execution_count": 7,
     "metadata": {},
     "output_type": "execute_result"
    }
   ],
   "source": [
    "cluster.adapt(minimum=1,maximum=1)"
   ]
  },
  {
   "cell_type": "code",
   "execution_count": 8,
   "id": "shared-spanking",
   "metadata": {},
   "outputs": [
    {
     "data": {
      "text/html": [
       "<table style=\"border: 2px solid white;\">\n",
       "<tr>\n",
       "<td style=\"vertical-align: top; border: 0px solid white\">\n",
       "<h3 style=\"text-align: left;\">Client</h3>\n",
       "<ul style=\"text-align: left; list-style: none; margin: 0; padding: 0;\">\n",
       "  <li><b>Scheduler: </b>tcp://10.100.8.23:38753</li>\n",
       "  <li><b>Dashboard: </b><a href='http://10.100.8.23:8787/status' target='_blank'>http://10.100.8.23:8787/status</a></li>\n",
       "</ul>\n",
       "</td>\n",
       "<td style=\"vertical-align: top; border: 0px solid white\">\n",
       "<h3 style=\"text-align: left;\">Cluster</h3>\n",
       "<ul style=\"text-align: left; list-style:none; margin: 0; padding: 0;\">\n",
       "  <li><b>Workers: </b>0</li>\n",
       "  <li><b>Cores: </b>0</li>\n",
       "  <li><b>Memory: </b>0 B</li>\n",
       "</ul>\n",
       "</td>\n",
       "</tr>\n",
       "</table>"
      ],
      "text/plain": [
       "<Client: 'tcp://10.100.8.23:38753' processes=0 threads=0, memory=0 B>"
      ]
     },
     "execution_count": 8,
     "metadata": {},
     "output_type": "execute_result"
    }
   ],
   "source": [
    "client"
   ]
  },
  {
   "cell_type": "code",
   "execution_count": 9,
   "id": "widespread-subscriber",
   "metadata": {},
   "outputs": [],
   "source": [
    "files=glob.glob(\"/home/au569913/NOBACKUP/interim/*nc\")\n",
    "files.sort()\n",
    "chunks = [files[x:x+20] for x in range(0, len(files), 20)]"
   ]
  },
  {
   "cell_type": "code",
   "execution_count": null,
   "id": "obvious-isolation",
   "metadata": {},
   "outputs": [],
   "source": [
    "ds=xr.open_mfdataset(files[0],parallel=True,combine='nested',concat_dim='time')\n",
    "ds.to_zarr(\"/home/au569913/NOBACKUP/data.zarr\",consolidated=True,compute=True,mode='w')\n",
    "\n",
    "\n",
    "for file in files[1:]:\n",
    "    ds=xr.open_mfdataset(file,parallel=True,combine='nested',concat_dim='time')\n",
    "    ds.to_zarr(\"/home/au569913/NOBACKUP/data.zarr\", append_dim=\"time\",consolidated=True,compute=True)"
   ]
  },
  {
   "cell_type": "code",
   "execution_count": null,
   "id": "personal-immigration",
   "metadata": {},
   "outputs": [],
   "source": []
  }
 ],
 "metadata": {
  "kernelspec": {
   "display_name": "Python 3",
   "language": "python",
   "name": "python3"
  },
  "language_info": {
   "codemirror_mode": {
    "name": "ipython",
    "version": 3
   },
   "file_extension": ".py",
   "mimetype": "text/x-python",
   "name": "python",
   "nbconvert_exporter": "python",
   "pygments_lexer": "ipython3",
   "version": "3.8.8"
  }
 },
 "nbformat": 4,
 "nbformat_minor": 5
}
